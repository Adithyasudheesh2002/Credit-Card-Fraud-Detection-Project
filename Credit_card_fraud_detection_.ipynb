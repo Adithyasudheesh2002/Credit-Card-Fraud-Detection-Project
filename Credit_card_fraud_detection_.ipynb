{
  "nbformat": 4,
  "nbformat_minor": 0,
  "metadata": {
    "colab": {
      "provenance": []
    },
    "kernelspec": {
      "name": "python3",
      "display_name": "Python 3"
    },
    "language_info": {
      "name": "python"
    }
  },
  "cells": [
    {
      "cell_type": "code",
      "execution_count": 1,
      "metadata": {
        "id": "3qsiFk61m8bX",
        "colab": {
          "base_uri": "https://localhost:8080/"
        },
        "outputId": "6bcee07a-c90d-49a3-8a7f-861299f1d926"
      },
      "outputs": [
        {
          "output_type": "stream",
          "name": "stdout",
          "text": [
            "Requirement already satisfied: scikit-learn in /usr/local/lib/python3.11/dist-packages (1.6.1)\n",
            "Requirement already satisfied: imbalanced-learn in /usr/local/lib/python3.11/dist-packages (0.13.0)\n",
            "Requirement already satisfied: numpy>=1.19.5 in /usr/local/lib/python3.11/dist-packages (from scikit-learn) (2.0.2)\n",
            "Requirement already satisfied: scipy>=1.6.0 in /usr/local/lib/python3.11/dist-packages (from scikit-learn) (1.14.1)\n",
            "Requirement already satisfied: joblib>=1.2.0 in /usr/local/lib/python3.11/dist-packages (from scikit-learn) (1.4.2)\n",
            "Requirement already satisfied: threadpoolctl>=3.1.0 in /usr/local/lib/python3.11/dist-packages (from scikit-learn) (3.6.0)\n",
            "Requirement already satisfied: sklearn-compat<1,>=0.1 in /usr/local/lib/python3.11/dist-packages (from imbalanced-learn) (0.1.3)\n"
          ]
        }
      ],
      "source": [
        "# import libraries\n",
        "\n",
        "# Install necessary libraries\n",
        "!pip install scikit-learn imbalanced-learn\n",
        "\n",
        "# Import libraries\n",
        "import numpy as np\n",
        "import pandas as pd\n",
        "import matplotlib.pyplot as plt\n",
        "import seaborn as sns\n",
        "\n",
        "from sklearn.model_selection import train_test_split, GridSearchCV\n",
        "from sklearn.preprocessing import StandardScaler\n",
        "from sklearn.linear_model import LogisticRegression\n",
        "from sklearn.metrics import classification_report, confusion_matrix, roc_auc_score, accuracy_score\n",
        "from imblearn.under_sampling import RandomUnderSampler\n",
        "from imblearn.ensemble import BalancedBaggingClassifier\n"
      ]
    },
    {
      "cell_type": "code",
      "source": [
        "# Load dataset\n",
        "url = \"/content/creditcard.csv\"\n",
        "data = pd.read_csv(url)\n",
        "\n",
        "# Quick look\n",
        "data.head()\n",
        "data['Class'].value_counts()\n"
      ],
      "metadata": {
        "colab": {
          "base_uri": "https://localhost:8080/",
          "height": 178
        },
        "id": "IP0l1JUPw2hp",
        "outputId": "f128ba4f-ece5-4d21-ba5f-1e445f3b38d2"
      },
      "execution_count": 2,
      "outputs": [
        {
          "output_type": "execute_result",
          "data": {
            "text/plain": [
              "Class\n",
              "0.0    51440\n",
              "1.0      150\n",
              "Name: count, dtype: int64"
            ],
            "text/html": [
              "<div>\n",
              "<style scoped>\n",
              "    .dataframe tbody tr th:only-of-type {\n",
              "        vertical-align: middle;\n",
              "    }\n",
              "\n",
              "    .dataframe tbody tr th {\n",
              "        vertical-align: top;\n",
              "    }\n",
              "\n",
              "    .dataframe thead th {\n",
              "        text-align: right;\n",
              "    }\n",
              "</style>\n",
              "<table border=\"1\" class=\"dataframe\">\n",
              "  <thead>\n",
              "    <tr style=\"text-align: right;\">\n",
              "      <th></th>\n",
              "      <th>count</th>\n",
              "    </tr>\n",
              "    <tr>\n",
              "      <th>Class</th>\n",
              "      <th></th>\n",
              "    </tr>\n",
              "  </thead>\n",
              "  <tbody>\n",
              "    <tr>\n",
              "      <th>0.0</th>\n",
              "      <td>51440</td>\n",
              "    </tr>\n",
              "    <tr>\n",
              "      <th>1.0</th>\n",
              "      <td>150</td>\n",
              "    </tr>\n",
              "  </tbody>\n",
              "</table>\n",
              "</div><br><label><b>dtype:</b> int64</label>"
            ]
          },
          "metadata": {},
          "execution_count": 2
        }
      ]
    },
    {
      "cell_type": "code",
      "source": [
        "#data preporcessing\n",
        "# Features and Labels\n",
        "X = data.drop(['Class', 'Time'], axis=1)  # Drop Time (often not useful here)\n",
        "y = data['Class']\n",
        "\n",
        "# Handle missing values in the target variable (y)\n",
        "# You can either remove rows with missing values or impute them\n",
        "# Here, we'll remove rows with missing values in 'Class'\n",
        "\n",
        "y = y.dropna()  # drop the rows that contains NA values\n",
        "X = X.loc[y.index] # select the rows from X that has the index of y after dropping the NA rows of y\n",
        "\n",
        "# Feature Scaling\n",
        "scaler = StandardScaler()\n",
        "X_scaled = scaler.fit_transform(X)\n",
        "\n",
        "# Train-Test Split\n",
        "X_train, X_test, y_train, y_test = train_test_split(X_scaled, y, test_size=0.3, random_state=42, stratify=y)\n",
        "\n",
        "print(\"Training Samples:\", X_train.shape[0])\n",
        "print(\"Testing Samples:\", X_test.shape[0])"
      ],
      "metadata": {
        "colab": {
          "base_uri": "https://localhost:8080/"
        },
        "id": "WC9gx31wxdJL",
        "outputId": "ebf1dc92-d0f1-4fac-d264-77fd3017603c"
      },
      "execution_count": 4,
      "outputs": [
        {
          "output_type": "stream",
          "name": "stdout",
          "text": [
            "Training Samples: 36113\n",
            "Testing Samples: 15477\n"
          ]
        }
      ]
    },
    {
      "cell_type": "code",
      "source": [
        "# undersampling to handle balance sample\n",
        "# Apply random undersampling to balance the dataset\n",
        "rus = RandomUnderSampler(random_state=42)\n",
        "X_train_rus, y_train_rus = rus.fit_resample(X_train, y_train)\n",
        "\n",
        "print(\"After Undersampling:\", np.bincount(y_train_rus))\n"
      ],
      "metadata": {
        "colab": {
          "base_uri": "https://localhost:8080/"
        },
        "id": "nH3oOe1sxqDp",
        "outputId": "4bdc1a4d-cf74-40a5-eabf-90cde496b95b"
      },
      "execution_count": 5,
      "outputs": [
        {
          "output_type": "stream",
          "name": "stdout",
          "text": [
            "After Undersampling: [105 105]\n"
          ]
        }
      ]
    },
    {
      "cell_type": "code",
      "source": [
        "# Train a basic Logistic Regression\n",
        "lr = LogisticRegression(solver='liblinear', random_state=42)\n",
        "lr.fit(X_train_rus, y_train_rus)\n",
        "\n",
        "# Predict\n",
        "y_pred = lr.predict(X_test)\n",
        "\n",
        "# Evaluate\n",
        "print(\"Accuracy:\", accuracy_score(y_test, y_pred))\n",
        "print(\"ROC AUC:\", roc_auc_score(y_test, y_pred))\n",
        "print(confusion_matrix(y_test, y_pred))\n",
        "print(classification_report(y_test, y_pred))\n"
      ],
      "metadata": {
        "colab": {
          "base_uri": "https://localhost:8080/"
        },
        "id": "eRByHG_txyFM",
        "outputId": "cf8e6b11-b711-418f-bc6b-262d746e8742"
      },
      "execution_count": 6,
      "outputs": [
        {
          "output_type": "stream",
          "name": "stdout",
          "text": [
            "Accuracy: 0.963300381210829\n",
            "ROC AUC: 0.9705179713150165\n",
            "[[14865   567]\n",
            " [    1    44]]\n",
            "              precision    recall  f1-score   support\n",
            "\n",
            "         0.0       1.00      0.96      0.98     15432\n",
            "         1.0       0.07      0.98      0.13        45\n",
            "\n",
            "    accuracy                           0.96     15477\n",
            "   macro avg       0.54      0.97      0.56     15477\n",
            "weighted avg       1.00      0.96      0.98     15477\n",
            "\n"
          ]
        }
      ]
    },
    {
      "cell_type": "code",
      "source": [
        "# feature engineering\n",
        "\n",
        "# Correlation Heatmap\n",
        "plt.figure(figsize=(12,10))\n",
        "sns.heatmap(data.corr(), cmap='coolwarm_r')\n",
        "plt.show()\n",
        "\n",
        "# Optional: Remove features with low correlation with 'Class'\n",
        "# Example: Keep only features V4, V11, V14, V17, V18 etc. if they show high correlation\n",
        "important_features = ['V4', 'V11', 'V14', 'V17', 'V18', 'Amount']\n",
        "\n",
        "# Ensure X_selected is created after handling missing values in 'y' and updating 'X'\n",
        "X_selected = X[important_features] # Use the updated X with consistent rows\n",
        "\n",
        "X_selected_scaled = scaler.fit_transform(X_selected)\n",
        "\n",
        "# Train-test again\n",
        "X_train_sel, X_test_sel, y_train_sel, y_test_sel = train_test_split(X_selected_scaled, y, test_size=0.3, random_state=42, stratify=y)\n",
        "\n",
        "# Undersample again\n",
        "X_train_sel_rus, y_train_sel_rus = rus.fit_resample(X_train_sel, y_train_sel)"
      ],
      "metadata": {
        "colab": {
          "base_uri": "https://localhost:8080/",
          "height": 581
        },
        "id": "owz1hNRUxz6z",
        "outputId": "3edbb10b-4a4e-461b-ebc0-c3fedc5e4906"
      },
      "execution_count": 8,
      "outputs": [
        {
          "output_type": "display_data",
          "data": {
            "text/plain": [
              "<Figure size 1200x1000 with 2 Axes>"
            ],
            "image/png": "[encoded data removed]"
          },
          "metadata": {}
        }
      ]
    },
    {
      "cell_type": "code",
      "source": [
        "# hyperparameter tuning\n",
        "param_grid = {\n",
        "    'C': [0.01, 0.1, 1, 10, 100],\n",
        "    'penalty': ['l1', 'l2'],\n",
        "    'solver': ['liblinear']\n",
        "}\n",
        "\n",
        "grid = GridSearchCV(LogisticRegression(random_state=42), param_grid, cv=5, scoring='accuracy')\n",
        "grid.fit(X_train_sel_rus, y_train_sel_rus)\n",
        "\n",
        "print(\"Best Parameters:\", grid.best_params_)\n",
        "best_lr = grid.best_estimator_\n",
        "\n",
        "# Predict\n",
        "y_pred_best = best_lr.predict(X_test_sel)\n",
        "\n",
        "# Evaluate\n",
        "print(\"Tuned Accuracy:\", accuracy_score(y_test_sel, y_pred_best))\n",
        "print(\"Tuned ROC AUC:\", roc_auc_score(y_test_sel, y_pred_best))\n",
        "print(confusion_matrix(y_test_sel, y_pred_best))\n",
        "print(classification_report(y_test_sel, y_pred_best))\n"
      ],
      "metadata": {
        "colab": {
          "base_uri": "https://localhost:8080/"
        },
        "id": "eP29jRv2yPNf",
        "outputId": "da617764-d92e-4630-f2b3-aee0cc99bfb6"
      },
      "execution_count": 11,
      "outputs": [
        {
          "output_type": "stream",
          "name": "stdout",
          "text": [
            "Best Parameters: {'C': 1, 'penalty': 'l1', 'solver': 'liblinear'}\n",
            "Tuned Accuracy: 0.9782257543451574\n",
            "Tuned ROC AUC: 0.978002419215483\n",
            "[[15096   336]\n",
            " [    1    44]]\n",
            "              precision    recall  f1-score   support\n",
            "\n",
            "         0.0       1.00      0.98      0.99     15432\n",
            "         1.0       0.12      0.98      0.21        45\n",
            "\n",
            "    accuracy                           0.98     15477\n",
            "   macro avg       0.56      0.98      0.60     15477\n",
            "weighted avg       1.00      0.98      0.99     15477\n",
            "\n"
          ]
        }
      ]
    },
    {
      "cell_type": "code",
      "source": [
        "!pip install imbalanced-learn --upgrade\n",
        "ensemble = BalancedBaggingClassifier(estimator=LogisticRegression(solver='liblinear'), # Use 'estimator' instead of 'base_estimator'\n",
        "                                      sampling_strategy='auto',\n",
        "                                      replacement=False,\n",
        "                                      random_state=42)\n",
        "ensemble.fit(X_train_sel, y_train_sel)\n",
        "\n",
        "# Predict\n",
        "y_pred_ensemble = ensemble.predict(X_test_sel)\n",
        "\n",
        "# Evaluate\n",
        "print(\"Ensemble Accuracy:\", accuracy_score(y_test_sel, y_pred_ensemble))\n",
        "print(\"Ensemble ROC AUC:\", roc_auc_score(y_test_sel, y_pred_ensemble))\n",
        "print(confusion_matrix(y_test_sel, y_pred_ensemble))\n",
        "print(classification_report(y_test_sel, y_pred_ensemble))\n"
      ],
      "metadata": {
        "colab": {
          "base_uri": "https://localhost:8080/"
        },
        "id": "hrCEaLb8yUlB",
        "outputId": "8ed68eec-ab04-4ac5-942d-29f1d06b36d4"
      },
      "execution_count": 12,
      "outputs": [
        {
          "output_type": "stream",
          "name": "stdout",
          "text": [
            "Requirement already satisfied: imbalanced-learn in /usr/local/lib/python3.11/dist-packages (0.13.0)\n",
            "Requirement already satisfied: numpy<3,>=1.24.3 in /usr/local/lib/python3.11/dist-packages (from imbalanced-learn) (2.0.2)\n",
            "Requirement already satisfied: scipy<2,>=1.10.1 in /usr/local/lib/python3.11/dist-packages (from imbalanced-learn) (1.14.1)\n",
            "Requirement already satisfied: scikit-learn<2,>=1.3.2 in /usr/local/lib/python3.11/dist-packages (from imbalanced-learn) (1.6.1)\n",
            "Requirement already satisfied: sklearn-compat<1,>=0.1 in /usr/local/lib/python3.11/dist-packages (from imbalanced-learn) (0.1.3)\n",
            "Requirement already satisfied: joblib<2,>=1.1.1 in /usr/local/lib/python3.11/dist-packages (from imbalanced-learn) (1.4.2)\n",
            "Requirement already satisfied: threadpoolctl<4,>=2.0.0 in /usr/local/lib/python3.11/dist-packages (from imbalanced-learn) (3.6.0)\n",
            "Ensemble Accuracy: 0.9879821670866447\n",
            "Ensemble ROC AUC: 0.9828948505270434\n",
            "[[15247   185]\n",
            " [    1    44]]\n",
            "              precision    recall  f1-score   support\n",
            "\n",
            "         0.0       1.00      0.99      0.99     15432\n",
            "         1.0       0.19      0.98      0.32        45\n",
            "\n",
            "    accuracy                           0.99     15477\n",
            "   macro avg       0.60      0.98      0.66     15477\n",
            "weighted avg       1.00      0.99      0.99     15477\n",
            "\n"
          ]
        }
      ]
    },
    {
      "cell_type": "code",
      "source": [
        "#final evaluation\n",
        "results = {\n",
        "    \"Model\": [\"Baseline LR\", \"Tuned LR\", \"Ensemble LR\"],\n",
        "    \"Accuracy\": [\n",
        "        accuracy_score(y_test, y_pred),\n",
        "        accuracy_score(y_test_sel, y_pred_best),\n",
        "        accuracy_score(y_test_sel, y_pred_ensemble)\n",
        "    ],\n",
        "    \"ROC AUC\": [\n",
        "        roc_auc_score(y_test, y_pred),\n",
        "        roc_auc_score(y_test_sel, y_pred_best),\n",
        "        roc_auc_score(y_test_sel, y_pred_ensemble)\n",
        "    ]\n",
        "}\n",
        "\n",
        "results_df = pd.DataFrame(results)\n",
        "print(results_df)\n",
        "\n"
      ],
      "metadata": {
        "colab": {
          "base_uri": "https://localhost:8080/"
        },
        "id": "Er5ZGIz-yWjn",
        "outputId": "c0079ec2-abde-4c37-d57c-640abed7136b"
      },
      "execution_count": 13,
      "outputs": [
        {
          "output_type": "stream",
          "name": "stdout",
          "text": [
            "         Model  Accuracy   ROC AUC\n",
            "0  Baseline LR  0.963300  0.970518\n",
            "1     Tuned LR  0.978226  0.978002\n",
            "2  Ensemble LR  0.987982  0.982895\n"
          ]
        }
      ]
    },
    {
      "cell_type": "code",
      "source": [],
      "metadata": {
        "id": "1FDjok4BzrRY"
      },
      "execution_count": null,
      "outputs": []
    }
  ]
}